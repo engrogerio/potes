{
 "cells": [
  {
   "cell_type": "code",
   "execution_count": 7,
   "metadata": {},
   "outputs": [
    {
     "name": "stdout",
     "output_type": "stream",
     "text": [
      "(900.0, 100.0)\n",
      "1 Sem Nome             R$  100.00     R$  100.00       100.0%\n",
      "1 teste                R$  100.00     R$    0.00       0.0%  \n",
      "(50.0, 50.0)\n",
      "1 Sem Nome             R$  100.00     R$   50.00       50.0% \n",
      "1 teste                R$  100.00     R$   50.00       50.0% \n"
     ]
    }
   ],
   "source": [
    "from pote import Pote\n",
    "p1 = Pote()\n",
    "p2 = Pote('teste')\n",
    "print(p1.deposita(1000))\n",
    "print p1\n",
    "print p2\n",
    "print(p1.transfere_para(p2,50))\n",
    "print p1\n",
    "print p2"
   ]
  },
  {
   "cell_type": "code",
   "execution_count": null,
   "metadata": {},
   "outputs": [],
   "source": [
    "from potes import Potes\n",
    "from pote import Pote\n",
    "potes_spec_list=[('luz',200, 1),\n",
    "        ('Faculdade Fa',600, 4),\n",
    "        ('aluguel',2200, 7),\n",
    "        ('academia',90, 8),\n",
    "        ('agua',50, 2),                    \n",
    "        ('telefone',150, 3),\n",
    "                 \n",
    "        ('supermercado',800, 5),\n",
    "        ('TV',100, 6),\n",
    "        ('Faculdade Gu',3800, 9),\n",
    "        ('restaurante',800, 10),\n",
    "        ('carro',1500, 11),\n",
    "        ('IPTU',500, 12),\n",
    "        ('Gasto',2000,13),\n",
    "        ('Poupanca', 9999.99, 99)\n",
    "        ]\n",
    "ps=Potes(2018,3)\n",
    "p1=Pote('Natacao', 200,5)\n",
    "p2=Pote('Faculdade', 1500,1)\n",
    "ps.adiciona_pote(p1)\n",
    "ps.adiciona_pote(p2)\n",
    "ps.status()\n",
    "for o in ps.potes:\n",
    "    print(o.nome)\n",
    "ps.potes.index('Faculdade')"
   ]
  },
  {
   "cell_type": "code",
   "execution_count": null,
   "metadata": {},
   "outputs": [],
   "source": [
    "a=list('Rogério')\n",
    "a.pop(a.index('i'))\n"
   ]
  },
  {
   "cell_type": "code",
   "execution_count": null,
   "metadata": {},
   "outputs": [],
   "source": [
    "     \n",
    "\n",
    "    "
   ]
  }
 ],
 "metadata": {
  "kernelspec": {
   "display_name": "Python 2",
   "language": "python",
   "name": "python2"
  },
  "language_info": {
   "codemirror_mode": {
    "name": "ipython",
    "version": 2
   },
   "file_extension": ".py",
   "mimetype": "text/x-python",
   "name": "python",
   "nbconvert_exporter": "python",
   "pygments_lexer": "ipython2",
   "version": "2.7.12"
  }
 },
 "nbformat": 4,
 "nbformat_minor": 2
}
